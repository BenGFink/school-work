{
 "cells": [
  {
   "cell_type": "code",
   "execution_count": 1,
   "id": "b65b983e",
   "metadata": {},
   "outputs": [],
   "source": [
    "import numpy as np\n",
    "import matplotlib.pyplot as plt"
   ]
  },
  {
   "cell_type": "code",
   "execution_count": 2,
   "id": "3d1e9e01",
   "metadata": {},
   "outputs": [],
   "source": [
    "def goldPick(g=1, s=1, b=1):\n",
    "    r = np.random.randint(1,2*g+b+1)\n",
    "    if r <= 2*g:\n",
    "        return True\n",
    "    elif r <= 2*g+b:\n",
    "        return False\n",
    "    else:\n",
    "        goldSim(g,s,b)"
   ]
  },
  {
   "cell_type": "code",
   "execution_count": 3,
   "id": "0cc6ddfd",
   "metadata": {},
   "outputs": [],
   "source": [
    "def goldSim(g=1, s=1, b=1, trials = 10):\n",
    "    count = 0 \n",
    "    for i in range(trials):\n",
    "        if goldPick(g,s,b):\n",
    "            count+=1\n",
    "    return count/trials\n",
    "        \n",
    "        "
   ]
  },
  {
   "cell_type": "code",
   "execution_count": 4,
   "id": "fcd58755",
   "metadata": {},
   "outputs": [
    {
     "data": {
      "text/plain": [
       "0.37495"
      ]
     },
     "execution_count": 4,
     "metadata": {},
     "output_type": "execute_result"
    }
   ],
   "source": [
    "goldSim(3,1,10,100000)"
   ]
  },
  {
   "cell_type": "code",
   "execution_count": 5,
   "id": "59726ba6",
   "metadata": {},
   "outputs": [],
   "source": [
    "def birthdaySim(n = 300, times = 1000):\n",
    "    count = 0\n",
    "    for j in range(times):\n",
    "        days = np.array([0]*365)\n",
    "        for i in range(n):\n",
    "            r = np.random.randint(0,365)\n",
    "            days[r]+= 1\n",
    "        \n",
    "        freeDays = np.where(days==0)[0]\n",
    "        if (freeDays.size != 0):\n",
    "            count+= 1\n",
    "        \n",
    "    return count/times\n",
    "    "
   ]
  },
  {
   "cell_type": "code",
   "execution_count": 6,
   "id": "b7a8c8fd",
   "metadata": {},
   "outputs": [
    {
     "data": {
      "text/plain": [
       "0.799"
      ]
     },
     "execution_count": 6,
     "metadata": {},
     "output_type": "execute_result"
    }
   ],
   "source": [
    "birthdaySim(2000,1000)"
   ]
  },
  {
   "cell_type": "code",
   "execution_count": null,
   "id": "c6f8c04e",
   "metadata": {},
   "outputs": [],
   "source": []
  }
 ],
 "metadata": {
  "kernelspec": {
   "display_name": "Python 3",
   "language": "python",
   "name": "python3"
  },
  "language_info": {
   "codemirror_mode": {
    "name": "ipython",
    "version": 3
   },
   "file_extension": ".py",
   "mimetype": "text/x-python",
   "name": "python",
   "nbconvert_exporter": "python",
   "pygments_lexer": "ipython3",
   "version": "3.8.8"
  }
 },
 "nbformat": 4,
 "nbformat_minor": 5
}
